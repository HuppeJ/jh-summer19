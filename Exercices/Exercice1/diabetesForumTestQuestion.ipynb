{
 "cells": [
  {
   "cell_type": "markdown",
   "metadata": {},
   "source": [
    "# Sample discussion on diabetes forum analysis\n",
    "## [diabetes.co.uk: Essential info for choosing a pump](https://www.diabetes.co.uk/forum/threads/essential-info-for-choosing-a-pump.6699/)"
   ]
  },
  {
   "cell_type": "code",
   "execution_count": 1,
   "metadata": {},
   "outputs": [],
   "source": [
    "# Getting the html page\n",
    "import requests\n",
    "pageUrl = \"https://www.diabetes.co.uk/forum/threads/essential-info-for-choosing-a-pump.6699/\"\n",
    "r = requests.get(pageUrl)\n",
    "c = r.content\n"
   ]
  },
  {
   "cell_type": "code",
   "execution_count": 2,
   "metadata": {},
   "outputs": [],
   "source": [
    "# Soup the html page\n",
    "from bs4 import BeautifulSoup\n",
    "soup = BeautifulSoup(c)\n"
   ]
  },
  {
   "cell_type": "code",
   "execution_count": 3,
   "metadata": {},
   "outputs": [],
   "source": [
    "# Outputing the soup version of the html page to find tags for parsing the comments\n",
    "#with open(\"diabetesForumTestQuestion.html\", \"w\") as file:\n",
    "#    file.write(str(soup.encode(\"utf-8\")))\n"
   ]
  },
  {
   "cell_type": "code",
   "execution_count": 4,
   "metadata": {},
   "outputs": [
    {
     "data": {
      "text/plain": [
       "{'id': 'comment 1: ',\n",
       " 'content': \"I've been busy trawling through the mass of NHS sites to find some clear info on what pumps are available. I know this question has been asked, and answered before, but I wanted to see some definitive info.\\n\\nOn my travels I came across the Centre for Evidence-based Purchasing (CEP), which is the department of the NHS which publishes recommendations on the use of medical devices. They have produced 'buyers guides' for a number of devices, including insulin pumps.\\n\\nThe guide covers all the aspects of choosing a pump, and also includes ratings based on the opinions of diabetics using the devices. I have provided a direct link to the guide as I feel it would be invaluable to anyone deciding on what they need from a pump.\\n\\nThis is publicly available information, so I hope that there is no issue with posting it here.\\n\\nhttp://www.pasa.nhs.uk/pasa/Doc.aspx?Pa ... P08004.pdf\\n\"}"
      ]
     },
     "execution_count": 4,
     "metadata": {},
     "output_type": "execute_result"
    }
   ],
   "source": [
    "# Extracting relevant data\n",
    "\n",
    "# Adding title\n",
    "title = {\"id\": \"title\", \"content\": soup.find(\"h1\").text}\n",
    "\n",
    "questionElem = soup.select('.uix_threadAuthor .messageText')[0]\n",
    "question = {\"id\": \"question\", \"content\": questionElem.text.strip()}\n",
    "\n",
    "# Adding the comments\n",
    "commentsElem = soup.select('.uix_message .messageText')\n",
    "parsedComments = []\n",
    "for i, commentElem in enumerate(commentsElem):\n",
    "    commentId = \"comment \" + str(i + 1) + \": \"\n",
    "    content = commentElem.text.strip() + \"\\n\"\n",
    "    comment = {\"id\": commentId, \"content\": content}\n",
    "    parsedComments.append(comment)\n",
    "\n",
    "# Remove Question\n",
    "parsedComments.pop(0)"
   ]
  },
  {
   "cell_type": "code",
   "execution_count": 6,
   "metadata": {},
   "outputs": [],
   "source": [
    "# Write parsedPage in .csv file\n",
    "import csv\n",
    "fieldnames = [\"id\", \"content\"]\n",
    "\n",
    "with open(\"diabetesForumTestQuestionData.csv\", mode=\"w\", encoding=\"utf-8\", newline='') as csv_file:\n",
    "    writer = csv.DictWriter(csv_file, fieldnames=fieldnames)\n",
    "    writer.writeheader()\n",
    "    \n",
    "    try:      \n",
    "        writer.writerow(title)\n",
    "        writer.writerow(question)\n",
    "        for parsedComment in parsedComments:\n",
    "            writer.writerow(parsedComment)\n",
    "    except Exception as e:\n",
    "        print(\"Have not been able to write in csv file\", e)   "
   ]
  },
  {
   "cell_type": "code",
   "execution_count": null,
   "metadata": {},
   "outputs": [],
   "source": []
  }
 ],
 "metadata": {
  "file_extension": ".py",
  "kernelspec": {
   "display_name": "Python 3",
   "language": "python",
   "name": "python3"
  },
  "language_info": {
   "codemirror_mode": {
    "name": "ipython",
    "version": 3
   },
   "file_extension": ".py",
   "mimetype": "text/x-python",
   "name": "python",
   "nbconvert_exporter": "python",
   "pygments_lexer": "ipython3",
   "version": "3.7.2"
  },
  "mimetype": "text/x-python",
  "name": "python",
  "npconvert_exporter": "python",
  "pygments_lexer": "ipython3",
  "version": 3
 },
 "nbformat": 4,
 "nbformat_minor": 2
}
